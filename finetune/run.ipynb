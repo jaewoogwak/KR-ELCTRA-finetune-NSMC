{
 "cells": [
  {
   "cell_type": "code",
   "execution_count": null,
   "metadata": {},
   "outputs": [],
   "source": [
    "!pip install -q evaluate\n",
    "!pip install -q -U transformers peft accelerate optimum\n",
    "!pip install --quiet bitsandbytes\n",
    "!pip install transformers"
   ]
  },
  {
   "cell_type": "code",
   "execution_count": null,
   "metadata": {},
   "outputs": [],
   "source": [
    "import json\n",
    "from datasets import Dataset\n",
    "\n",
    "def load_jsonl(file_path):\n",
    "    with open(file_path, 'r', encoding='utf-8') as file:\n",
    "        lines = file.readlines()\n",
    "        data = [json.loads(line) for line in lines]\n",
    "    return data"
   ]
  },
  {
   "cell_type": "code",
   "execution_count": null,
   "metadata": {},
   "outputs": [],
   "source": [
    "train_data = load_jsonl('./data/nikluge-iau-2023-train.jsonl')\n",
    "test_data = load_jsonl('./data/nikluge-iau-2023-dev.jsonl')"
   ]
  },
  {
   "cell_type": "code",
   "execution_count": null,
   "metadata": {},
   "outputs": [],
   "source": [
    "train_dataset = Dataset.from_dict({\n",
    "    'id': [item['id'] for item in train_data],\n",
    "    'text': [item['input'] for item in train_data],\n",
    "    'label': [1 if item['output'] == 'POSITIVE' else 0 for item in train_data]\n",
    "})\n",
    "\n",
    "test_dataset = Dataset.from_dict({\n",
    "    'id': [item['id'] for item in test_data],\n",
    "    'text': [item['input'] for item in test_data],\n",
    "    'label': [1 if item['output'] == 'POSITIVE' else 0 for item in test_data]\n",
    "})"
   ]
  },
  {
   "cell_type": "code",
   "execution_count": null,
   "metadata": {},
   "outputs": [],
   "source": [
    "from transformers import AutoTokenizer\n",
    "\n",
    "model_id = \"snunlp/KR-ELECTRA-discriminator\" # fine-tuned ELECTRA model for NSMC\n",
    "tokenizer = AutoTokenizer.from_pretrained(model_id)\n",
    "\n",
    "def tokenize_function(examples):\n",
    "    return tokenizer(examples[\"text\"], padding=\"max_length\", truncation=True)\n",
    "\n",
    "tokenized_train_dataset = train_dataset.map(tokenize_function, batched=True)\n",
    "tokenized_test_dataset = test_dataset.map(tokenize_function, batched=True)"
   ]
  },
  {
   "cell_type": "code",
   "execution_count": null,
   "metadata": {},
   "outputs": [],
   "source": [
    "import os\n",
    "# 파인튜닝된 모델 경로\n",
    "# 사용하고 싶은 체크포인트 경로를 입력해주세요.\n",
    "model_checkpoint = \"./ckpt/krelectra-nsmc-ckpt/checkpoint-2000/\"\n",
    "\n",
    "# 경로 확인\n",
    "if not os.path.exists(model_checkpoint):\n",
    "    raise ValueError(f\"Path {model_checkpoint} does not exist.\")\n",
    "else:\n",
    "    print(f\"Path {model_checkpoint} exists. Proceeding to load the model.\")"
   ]
  },
  {
   "cell_type": "code",
   "execution_count": null,
   "metadata": {},
   "outputs": [],
   "source": [
    "from transformers import BertForSequenceClassification, Trainer, TrainingArguments, AutoModelForSequenceClassification\n",
    "import torch\n",
    "\n",
    "model_checkpoint = \"./ckpt/krelectra-nsmc-ckpt/checkpoint-2000/\"\n",
    "model = AutoModelForSequenceClassification.from_pretrained(model_checkpoint, num_labels=2)\n"
   ]
  },
  {
   "cell_type": "code",
   "execution_count": null,
   "metadata": {},
   "outputs": [],
   "source": [
    "import numpy as np\n",
    "import evaluate\n",
    "\n",
    "metric = evaluate.load(\"accuracy\")"
   ]
  },
  {
   "cell_type": "code",
   "execution_count": null,
   "metadata": {},
   "outputs": [],
   "source": [
    "from sklearn.metrics import accuracy_score, precision_score, recall_score, f1_score\n",
    "\n",
    "def compute_metrics(pred):\n",
    "    labels = pred.label_ids\n",
    "    preds = pred.predictions.argmax(-1)\n",
    "\n",
    "    # Calculate accuracy\n",
    "    accuracy = accuracy_score(labels, preds)\n",
    "\n",
    "   # Calculate precision, recall, and F1-score\n",
    "    precision = precision_score(labels, preds, average='weighted')\n",
    "    recall = recall_score(labels, preds, average='weighted')\n",
    "    f1 = f1_score(labels, preds, average='weighted')\n",
    "\n",
    "    return {\n",
    "        'accuracy': accuracy,\n",
    "        'precision': precision,\n",
    "        'recall': recall,\n",
    "        'f1': f1\n",
    "    }"
   ]
  },
  {
   "cell_type": "code",
   "execution_count": null,
   "metadata": {},
   "outputs": [],
   "source": [
    "from transformers import TrainingArguments, Trainer, EarlyStoppingCallback\n",
    "\n",
    "training_args = TrainingArguments(output_dir=\"test_trainer\",\n",
    "                                  evaluation_strategy=\"epoch\",\n",
    "                                  save_strategy=\"epoch\",\n",
    "                                  num_train_epochs=10,\n",
    "                                  load_best_model_at_end = True,\n",
    "                                  )"
   ]
  },
  {
   "cell_type": "code",
   "execution_count": null,
   "metadata": {},
   "outputs": [],
   "source": [
    "trainer = Trainer(\n",
    "    model=model,\n",
    "    args=training_args,\n",
    "    train_dataset=tokenized_train_dataset,\n",
    "    eval_dataset=tokenized_test_dataset,\n",
    "    compute_metrics=compute_metrics,\n",
    "    callbacks=[EarlyStoppingCallback(early_stopping_patience=3)]\n",
    ")"
   ]
  },
  {
   "cell_type": "code",
   "execution_count": null,
   "metadata": {},
   "outputs": [],
   "source": [
    "trainer.train()"
   ]
  },
  {
   "cell_type": "code",
   "execution_count": null,
   "metadata": {},
   "outputs": [],
   "source": [
    "trainer.evaluate()"
   ]
  },
  {
   "cell_type": "code",
   "execution_count": null,
   "metadata": {},
   "outputs": [],
   "source": [
    "# nikluge-iau-2023-test.jsonl를 가져와서 output을 예측\n",
    "test_data = load_jsonl('./data/nikluge-iau-2023-test.jsonl')\n",
    "test_dataset = Dataset.from_dict({\n",
    "    'id': [item['id'] for item in test_data],\n",
    "    'text': [item['input'] for item in test_data],\n",
    "})\n",
    "\n",
    "tokenized_test_dataset = test_dataset.map(tokenize_function, batched=True)\n",
    "predictions = trainer.predict(tokenized_test_dataset)\n",
    "\n",
    "output = []\n",
    "for idx, pred in enumerate(predictions.predictions):\n",
    "    output.append({\n",
    "        'id': test_data[idx]['id'],\n",
    "        'input': test_data[idx]['input'],\n",
    "        'output': 'POSITIVE' if pred.argmax() == 1 else 'NEGATIVE'\n",
    "    })\n",
    "    \n",
    "# JSONL 파일로 저장\n",
    "with open('./data/test-predictions.jsonl', 'w', encoding='utf-8') as file:\n",
    "    for item in output:\n",
    "        file.write(json.dumps(item, ensure_ascii=False) + '\\n')\n",
    "\n",
    "!head -n 5 ./data/test-predictions.jsonl"
   ]
  }
 ],
 "metadata": {
  "language_info": {
   "name": "python"
  }
 },
 "nbformat": 4,
 "nbformat_minor": 2
}
